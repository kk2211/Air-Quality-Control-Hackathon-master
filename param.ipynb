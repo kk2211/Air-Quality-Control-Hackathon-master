{
 "cells": [
  {
   "cell_type": "code",
   "execution_count": 1,
   "metadata": {},
   "outputs": [
    {
     "name": "stdout",
     "output_type": "stream",
     "text": [
      "ARIMA(0, 0, 0) MSE=8649.225\n",
      "ARIMA(0, 0, 1) MSE=7805.086\n",
      "ARIMA(0, 1, 0) MSE=8983.741\n",
      "ARIMA(0, 1, 1) MSE=7497.493\n",
      "ARIMA(1, 0, 0) MSE=7578.510\n",
      "ARIMA(1, 0, 1) MSE=7297.199\n",
      "ARIMA(1, 1, 0) MSE=7314.647\n",
      "ARIMA(1, 1, 1) MSE=7279.044\n",
      "ARIMA(2, 0, 0) MSE=7281.999\n",
      "ARIMA(2, 0, 1) MSE=7594.782\n",
      "ARIMA(2, 1, 0) MSE=6262.460\n",
      "ARIMA(2, 1, 1) MSE=7272.719\n",
      "ARIMA(4, 0, 0) MSE=7613.955\n",
      "ARIMA(4, 0, 1) MSE=7890.101\n",
      "ARIMA(4, 1, 0) MSE=6531.248\n",
      "ARIMA(4, 1, 1) MSE=7617.788\n",
      "ARIMA(5, 0, 0) MSE=7659.826\n",
      "ARIMA(5, 0, 1) MSE=7596.157\n",
      "ARIMA(5, 1, 0) MSE=6422.702\n",
      "ARIMA(5, 1, 1) MSE=7559.545\n",
      "Best ARIMA(2, 1, 0) MSE=6262.460\n"
     ]
    }
   ],
   "source": [
    "import warnings\n",
    "from pandas import read_csv\n",
    "from pandas import datetime\n",
    "from statsmodels.tsa.arima_model import ARIMA\n",
    "from sklearn.metrics import mean_squared_error\n",
    "\n",
    "# evaluate an ARIMA model for a given order (p,d,q)\n",
    "def evaluate_arima_model(X, arima_order):\n",
    "\t# prepare training dataset\n",
    "\ttrain_size = int(len(X) * 0.66)\n",
    "\ttrain, test = X[0:train_size], X[train_size:]\n",
    "\thistory = [x for x in train]\n",
    "\t# make predictions\n",
    "\tpredictions = list()\n",
    "\tfor t in range(len(test)):\n",
    "\t\tmodel = ARIMA(history, order=arima_order)\n",
    "\t\tmodel_fit = model.fit(disp=0)\n",
    "\t\tyhat = model_fit.forecast()[0]\n",
    "\t\tpredictions.append(yhat)\n",
    "\t\thistory.append(test[t])\n",
    "\t# calculate out of sample error\n",
    "\terror = mean_squared_error(test, predictions)\n",
    "\treturn error\n",
    "\n",
    "# evaluate combinations of p, d and q values for an ARIMA model\n",
    "def evaluate_models(dataset, p_values, d_values, q_values):\n",
    "\tdataset = dataset.astype('float32')\n",
    "\tbest_score, best_cfg = float(\"inf\"), None\n",
    "\tfor p in p_values:\n",
    "\t\tfor d in d_values:\n",
    "\t\t\tfor q in q_values:\n",
    "\t\t\t\torder = (p,d,q)\n",
    "\t\t\t\ttry:\n",
    "\t\t\t\t\tmse = evaluate_arima_model(dataset, order)\n",
    "\t\t\t\t\tif mse < best_score:\n",
    "\t\t\t\t\t\tbest_score, best_cfg = mse, order\n",
    "\t\t\t\t\tprint('ARIMA%s MSE=%.3f' % (order,mse))\n",
    "\t\t\t\texcept:\n",
    "\t\t\t\t\tcontinue\n",
    "\tprint('Best ARIMA%s MSE=%.3f' % (best_cfg, best_score))\n",
    "\n",
    "# load dataset\n",
    "series = read_csv(\"Janakpuri_residential.csv\", header=0, index_col=0)\n",
    "series=series.dropna()\n",
    "series=series.iloc[:,[2]]\n",
    "X = series.values\n",
    "p_values = [0, 1, 2, 4,5]\n",
    "d_values = range(0, 2)\n",
    "q_values = range(0, 2)\n",
    "warnings.filterwarnings(\"ignore\")\n",
    "evaluate_models(X, p_values, d_values, q_values)"
   ]
  }
 ],
 "metadata": {
  "kernelspec": {
   "display_name": "Python 3",
   "language": "python",
   "name": "python3"
  },
  "language_info": {
   "codemirror_mode": {
    "name": "ipython",
    "version": 3
   },
   "file_extension": ".py",
   "mimetype": "text/x-python",
   "name": "python",
   "nbconvert_exporter": "python",
   "pygments_lexer": "ipython3",
   "version": "3.7.3"
  }
 },
 "nbformat": 4,
 "nbformat_minor": 4
}
