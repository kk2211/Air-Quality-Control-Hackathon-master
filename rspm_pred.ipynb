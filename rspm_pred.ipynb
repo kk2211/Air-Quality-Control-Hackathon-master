{
 "cells": [
  {
   "cell_type": "code",
   "execution_count": null,
   "metadata": {},
   "outputs": [],
   "source": [
    "from pandas import read_csv\n",
    "import numpy as np\n",
    "from pandas import datetime\n",
    "from matplotlib import pyplot\n",
    "from statsmodels.tsa.arima_model import ARIMA\n",
    "from sklearn.metrics import mean_squared_error\n",
    "## rspm prediction\n",
    "def rspm_acc(file,title):\n",
    "    series = read_csv(file, header=0, index_col=0)\n",
    "    series=series.dropna()\n",
    "\n",
    "\n",
    "    series=series.iloc[:,[2]]\n",
    "    X=series.values\n",
    "    \n",
    "\n",
    "    size = int(len(X) * 0.1)\n",
    "    train, test = X[0:size], X[size:len(X)]\n",
    "    history = [x for x in train]\n",
    "    predictions = list()\n",
    "    err=[]\n",
    "    for t in range(len(test)):\n",
    "\n",
    "        model = ARIMA(history, order=(2,1,0))\n",
    "        model_fit = model.fit(disp=0)\n",
    "        output = model_fit.forecast()\n",
    "        yhat = output[0]\n",
    "        predictions.append(yhat)\n",
    "        obs = test[t]\n",
    "        history.append(obs)\n",
    "        err.append(abs(yhat-obs)/obs)\n",
    "\n",
    "#         print('predicted=%f, expected=%f' % (yhat, obs))\n",
    "\n",
    "\n",
    "    error = mean_squared_error(test, predictions)\n",
    "    print('Test MSE: %.3f' % error)\n",
    "    print(\"Avg err\"+str(np.mean(err)))\n",
    "    # plot\n",
    "    pyplot.title(title,fontsize=30)\n",
    "    pyplot.plot(test,label=\"Test\")\n",
    "    pyplot.xlabel(\"Years\",fontsize=22)\n",
    "    pyplot.ylabel(\"AQI\",fontsize=22)\n",
    "    pyplot.plot(predictions, color='red',label=\"Predictions\")\n",
    "    pyplot.xticks(np.arange(0, 251, 50),labels=[\"2011\",\"2012\",'2013',\"2014\",\"2015\"])\n",
    "    pyplot.legend()\n",
    "    pyplot.savefig(\"{}.png\".format(title))\n",
    "    pyplot.show()\n",
    "   \n",
    "    "
   ]
  },
  {
   "cell_type": "code",
   "execution_count": null,
   "metadata": {},
   "outputs": [],
   "source": [
    "# rspm_acc(\"N.Y. SCHOOL_residential.csv\",\"N.Y. SCHOOL\")"
   ]
  },
  {
   "cell_type": "code",
   "execution_count": null,
   "metadata": {},
   "outputs": [],
   "source": [
    "\n",
    "## NO2 pred\n",
    "def NO2_facc(file):\n",
    "    series = read_csv(file, header=0, index_col=0)\n",
    "    series=series.dropna()\n",
    "\n",
    "\n",
    "    series=series.iloc[:,[2]]\n",
    "    X=series.values\n",
    "    \n",
    "\n",
    "    size = int(len(X) * 0.96)\n",
    "    train, test = X[0:size], X[size:len(X)]\n",
    "    history = [x for x in train]\n",
    "    predictions = list()\n",
    "    err=[]\n",
    "    for t in range(8):\n",
    "\n",
    "        model = ARIMA(history, order=(5,1,0))\n",
    "        model_fit = model.fit(disp=0)\n",
    "        output = model_fit.forecast()\n",
    "        yhat = output[0]\n",
    "        predictions.append(yhat)\n",
    "        obs = yhat\n",
    "        history.append(yhat)\n",
    "        \n",
    "\n",
    "       print('predicted=%f, expected=%f' % (yhat, obs))\n",
    "\n",
    "\n",
    "    \n",
    "    pyplot.plot(predictions, color='red')\n",
    "    pyplot.show()"
   ]
  },
  {
   "cell_type": "code",
   "execution_count": null,
   "metadata": {},
   "outputs": [],
   "source": [
    "#NO2_facc(\"Janakpuri_residential.csv\")"
   ]
  }
 ],
 "metadata": {
  "kernelspec": {
   "display_name": "Python 3",
   "language": "python",
   "name": "python3"
  },
  "language_info": {
   "codemirror_mode": {
    "name": "ipython",
    "version": 3
   },
   "file_extension": ".py",
   "mimetype": "text/x-python",
   "name": "python",
   "nbconvert_exporter": "python",
   "pygments_lexer": "ipython3",
   "version": "3.7.3"
  }
 },
 "nbformat": 4,
 "nbformat_minor": 4
}
